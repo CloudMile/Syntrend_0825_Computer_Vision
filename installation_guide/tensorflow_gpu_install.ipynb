{
 "cells": [
  {
   "cell_type": "markdown",
   "metadata": {},
   "source": [
    "# TensorFlow GPU 安裝 on Windows\n",
    "\n",
    "1. 安裝 Anoconda, 建立 virtualenv\n",
    "```python\n",
    "conda create --name tensorflow-gpu python=3.5\n",
    "activate tensorflow-gpu\n",
    "conda install jupyter, numpy, pandas, scipy\n",
    "pip install tensorflow-gpu\n",
    "```\n",
    "<br/>\n",
    "2. 安裝CUDA, Windows 10 建議版本 ==> CUDA 8.0 + cuDNN 5.1\n",
    "    1. [檢查CUDA版本和GPU的相容性](https://developer.nvidia.com/cuda-gpus), 不要選擇比指定版本還舊的, 建議選目前8.0以上的\n",
    "    2. [下載CUDA](https://developer.nvidia.com/cuda-downloads)![title](CUDA_1.jpg)\n",
    "    3. CUDA新版會要求特定版本的Visual Studio, 若安裝出現不支援警告, 請參考[這裡](http://docs.nvidia.com/cuda/cuda-installation-guide-microsoft-windows/index.html#axzz4qeDJBHtF), \n",
    "    目前v8.0版支援到Visual Studio 2015(Visual C++ 14.0), 9.0RC 可支援到Visual Studio 2017版\n",
    "    <br/><br/>\n",
    "3. 安裝 cuDNN\n",
    "    1. [先註冊](https://developer.nvidia.com/rdp/form/cudnn-download-survey)\n",
    "    2. [下載cuDNN](https://developer.nvidia.com/cudnn), 下載之後把bin, includes, libs extract到CUDA安裝目錄下![title](cuDNN.jpg)\n",
    "    3. 確認%PATH%有底下路徑\n",
    "    ```\n",
    "        (CUDA_HOME範例位置 => C:/Program Files/NVIDIA GPU Computing Toolkit/CUDA/v9.0)\n",
    "        1. {CUDA_HOME}/lib/lib/x64\n",
    "        2. {CUDA_HOME}/lib/bin\n",
    "        3. {CUDA_HOME}/extras/CUPTI/libx64\n",
    "    ```\n",
    "    \n",
    "\n",
    "<br/><br/>\n",
    "+ 參考文件: \n",
    "    * https://blog.nex3z.com/2017/04/18/%E5%9C%A8-windows-%E5%B9%B3%E5%8F%B0%E5%AE%89%E8%A3%85-nvidia-gpu-%E5%8A%A0%E9%80%9F%E7%9A%84-tensorflow/\n",
    "    * http://ankivil.com/making-theano-faster-with-cudnn-and-cnmem-on-windows-10/\n",
    "    * https://nitishmutha.github.io/tensorflow/2017/01/22/TensorFlow-with-gpu-for-windows.html"
   ]
  }
 ],
 "metadata": {
  "kernelspec": {
   "display_name": "Python 3",
   "language": "python",
   "name": "python3"
  },
  "language_info": {
   "codemirror_mode": {
    "name": "ipython",
    "version": 3
   },
   "file_extension": ".py",
   "mimetype": "text/x-python",
   "name": "python",
   "nbconvert_exporter": "python",
   "pygments_lexer": "ipython3",
   "version": "3.5.3"
  }
 },
 "nbformat": 4,
 "nbformat_minor": 2
}
