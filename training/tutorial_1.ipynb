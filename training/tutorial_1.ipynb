{
 "cells": [
  {
   "cell_type": "code",
   "execution_count": 1,
   "metadata": {
    "collapsed": true
   },
   "outputs": [],
   "source": [
    "import tensorflow as tf\n",
    "import numpy as np"
   ]
  },
  {
   "cell_type": "markdown",
   "metadata": {},
   "source": [
    "# Tensor\n"
   ]
  },
  {
   "cell_type": "code",
   "execution_count": 2,
   "metadata": {},
   "outputs": [
    {
     "name": "stdout",
     "output_type": "stream",
     "text": [
      "[[ 0.06110759  0.0848017   0.1856363 ]\n",
      " [ 0.98964615  0.63216708  0.27145611]\n",
      " [ 0.90406534  0.58269641  0.09500077]]\n",
      "Tensor(\"Const:0\", shape=(), dtype=string)\n",
      "Tensor(\"Const_1:0\", shape=(3, 3), dtype=float32)\n",
      "Tensor(\"Placeholder:0\", shape=(3, 3), dtype=float32)\n",
      "Tensor(\"MatMul:0\", shape=(3, 3), dtype=float32)\n",
      "<tf.Variable 'Variable:0' shape=(3, 3) dtype=float64_ref>\n"
     ]
    }
   ],
   "source": [
    "rand_array = np.random.rand(3, 3)\n",
    "s = tf.constant('hello CloudMile', dtype=tf.string)\n",
    "n = tf.constant(rand_array, dtype=tf.float32)\n",
    "x = tf.placeholder(tf.float32, shape=(3, 3))\n",
    "y = tf.matmul(x, x)\n",
    "y_ = tf.Variable(rand_array, trainable=False)\n",
    "print(rand_array)\n",
    "print(s)\n",
    "print(n)\n",
    "print(x)\n",
    "print(y)\n",
    "print(y_)"
   ]
  },
  {
   "cell_type": "markdown",
   "metadata": {},
   "source": [
    "# Session"
   ]
  },
  {
   "cell_type": "code",
   "execution_count": 3,
   "metadata": {},
   "outputs": [
    {
     "name": "stdout",
     "output_type": "stream",
     "text": [
      "b'hello CloudMile'\n"
     ]
    }
   ],
   "source": [
    "with tf.Session() as sess:\n",
    "    print(sess.run(s))"
   ]
  },
  {
   "cell_type": "code",
   "execution_count": 4,
   "metadata": {},
   "outputs": [
    {
     "name": "stdout",
     "output_type": "stream",
     "text": [
      "b'hello CloudMile'\n"
     ]
    }
   ],
   "source": [
    "sess = tf.InteractiveSession()\n",
    "print(s.eval())\n",
    "sess.close()"
   ]
  },
  {
   "cell_type": "markdown",
   "metadata": {},
   "source": [
    "# Placeholder"
   ]
  },
  {
   "cell_type": "code",
   "execution_count": 5,
   "metadata": {},
   "outputs": [
    {
     "name": "stdout",
     "output_type": "stream",
     "text": [
      "[[ 0.25548515  0.16696048  0.05199932]\n",
      " [ 0.93151069  0.64173543  0.3811084 ]\n",
      " [ 0.71779537  0.50038439  0.33502901]]\n"
     ]
    }
   ],
   "source": [
    "with tf.Session() as sess:\n",
    "    # ERROR: will fail because x was not fed.\n",
    "#     print(sess.run(y))     \n",
    "    # Will succeed.\n",
    "    print(sess.run(y, feed_dict={x: rand_array}))  "
   ]
  },
  {
   "cell_type": "markdown",
   "metadata": {},
   "source": [
    "# Variable"
   ]
  },
  {
   "cell_type": "code",
   "execution_count": 6,
   "metadata": {},
   "outputs": [
    {
     "name": "stdout",
     "output_type": "stream",
     "text": [
      "[[ 0.06110759  0.0848017   0.1856363 ]\n",
      " [ 0.98964615  0.63216708  0.27145611]\n",
      " [ 0.90406534  0.58269641  0.09500077]]\n"
     ]
    }
   ],
   "source": [
    "with tf.Session() as sess:\n",
    "    sess.run(tf.global_variables_initializer())\n",
    "    print(sess.run(y_)) "
   ]
  },
  {
   "cell_type": "code",
   "execution_count": 7,
   "metadata": {
    "scrolled": true
   },
   "outputs": [
    {
     "name": "stdout",
     "output_type": "stream",
     "text": [
      "b'hello CloudMile'\n",
      "[[ 0.06110759  0.0848017   0.1856363 ]\n",
      " [ 0.98964614  0.6321671   0.27145612]\n",
      " [ 0.90406537  0.58269638  0.09500077]]\n",
      "[[ 0.25548515  0.16696048  0.05199932]\n",
      " [ 0.93151069  0.64173543  0.3811084 ]\n",
      " [ 0.71779537  0.50038439  0.33502901]]\n",
      "[[ 0.06110759  0.0848017   0.1856363 ]\n",
      " [ 0.98964615  0.63216708  0.27145611]\n",
      " [ 0.90406534  0.58269641  0.09500077]]\n"
     ]
    }
   ],
   "source": [
    "with tf.Session() as sess:\n",
    "    sess.run(tf.global_variables_initializer())\n",
    "    print(sess.run(s))\n",
    "    print(sess.run(n))\n",
    "    print(sess.run(y, feed_dict={x: rand_array})) \n",
    "    print(sess.run(y_))\n"
   ]
  },
  {
   "cell_type": "code",
   "execution_count": null,
   "metadata": {},
   "outputs": [],
   "source": []
  },
  {
   "cell_type": "code",
   "execution_count": null,
   "metadata": {},
   "outputs": [],
   "source": []
  },
  {
   "cell_type": "code",
   "execution_count": null,
   "metadata": {},
   "outputs": [],
   "source": []
  },
  {
   "cell_type": "code",
   "execution_count": null,
   "metadata": {
    "collapsed": true
   },
   "outputs": [],
   "source": []
  },
  {
   "cell_type": "code",
   "execution_count": null,
   "metadata": {},
   "outputs": [],
   "source": []
  },
  {
   "cell_type": "code",
   "execution_count": null,
   "metadata": {
    "collapsed": true
   },
   "outputs": [],
   "source": []
  },
  {
   "cell_type": "code",
   "execution_count": null,
   "metadata": {
    "collapsed": true
   },
   "outputs": [],
   "source": []
  },
  {
   "cell_type": "code",
   "execution_count": null,
   "metadata": {
    "collapsed": true
   },
   "outputs": [],
   "source": []
  }
 ],
 "metadata": {
  "kernelspec": {
   "display_name": "Python 3",
   "language": "python",
   "name": "python3"
  },
  "language_info": {
   "codemirror_mode": {
    "name": "ipython",
    "version": 3
   },
   "file_extension": ".py",
   "mimetype": "text/x-python",
   "name": "python",
   "nbconvert_exporter": "python",
   "pygments_lexer": "ipython3",
   "version": "3.6.2"
  }
 },
 "nbformat": 4,
 "nbformat_minor": 2
}
