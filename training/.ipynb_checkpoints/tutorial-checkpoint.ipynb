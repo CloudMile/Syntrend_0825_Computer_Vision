{
 "cells": [
  {
   "cell_type": "code",
   "execution_count": 1,
   "metadata": {
    "collapsed": true
   },
   "outputs": [],
   "source": [
    "import tensorflow as tf\n",
    "import numpy as np"
   ]
  },
  {
   "cell_type": "markdown",
   "metadata": {},
   "source": [
    "# Tensor\n"
   ]
  },
  {
   "cell_type": "code",
   "execution_count": 2,
   "metadata": {},
   "outputs": [
    {
     "name": "stdout",
     "output_type": "stream",
     "text": [
      "[[ 0.06110759  0.0848017   0.1856363 ]\n",
      " [ 0.98964615  0.63216708  0.27145611]\n",
      " [ 0.90406534  0.58269641  0.09500077]]\n",
      "Tensor(\"Const:0\", shape=(), dtype=string)\n",
      "Tensor(\"Const_1:0\", shape=(3, 3), dtype=float32)\n",
      "Tensor(\"Placeholder:0\", shape=(3, 3), dtype=float32)\n",
      "Tensor(\"MatMul:0\", shape=(3, 3), dtype=float32)\n",
      "<tf.Variable 'Variable:0' shape=(3, 3) dtype=float64_ref>\n"
     ]
    }
   ],
   "source": [
    "rand_array = np.random.rand(3, 3)\n",
    "s = tf.constant('hello CloudMile', dtype=tf.string)\n",
    "n = tf.constant(rand_array, dtype=tf.float32)\n",
    "x = tf.placeholder(tf.float32, shape=(3, 3))\n",
    "y = tf.matmul(x, x)\n",
    "y_ = tf.Variable(rand_array, trainable=False)\n",
    "print(rand_array)\n",
    "print(s)\n",
    "print(n)\n",
    "print(x)\n",
    "print(y)\n",
    "print(y_)"
   ]
  },
  {
   "cell_type": "markdown",
   "metadata": {},
   "source": [
    "# Session"
   ]
  },
  {
   "cell_type": "code",
   "execution_count": 3,
   "metadata": {},
   "outputs": [
    {
     "name": "stdout",
     "output_type": "stream",
     "text": [
      "b'hello CloudMile'\n"
     ]
    }
   ],
   "source": [
    "with tf.Session() as sess:\n",
    "    print(sess.run(s))"
   ]
  },
  {
   "cell_type": "code",
   "execution_count": 4,
   "metadata": {},
   "outputs": [
    {
     "name": "stdout",
     "output_type": "stream",
     "text": [
      "b'hello CloudMile'\n"
     ]
    }
   ],
   "source": [
    "sess = tf.InteractiveSession()\n",
    "print(s.eval())\n",
    "sess.close()"
   ]
  },
  {
   "cell_type": "markdown",
   "metadata": {},
   "source": [
    "# Placeholder"
   ]
  },
  {
   "cell_type": "code",
   "execution_count": 5,
   "metadata": {},
   "outputs": [
    {
     "name": "stdout",
     "output_type": "stream",
     "text": [
      "[[ 0.25548515  0.16696048  0.05199932]\n",
      " [ 0.93151069  0.64173543  0.3811084 ]\n",
      " [ 0.71779537  0.50038439  0.33502901]]\n"
     ]
    }
   ],
   "source": [
    "with tf.Session() as sess:\n",
    "    # ERROR: will fail because x was not fed.\n",
    "#     print(sess.run(y))     \n",
    "    # Will succeed.\n",
    "    print(sess.run(y, feed_dict={x: rand_array}))  "
   ]
  },
  {
   "cell_type": "markdown",
   "metadata": {},
   "source": [
    "# Variable"
   ]
  },
  {
   "cell_type": "code",
   "execution_count": 6,
   "metadata": {},
   "outputs": [
    {
     "name": "stdout",
     "output_type": "stream",
     "text": [
      "[[ 0.06110759  0.0848017   0.1856363 ]\n",
      " [ 0.98964615  0.63216708  0.27145611]\n",
      " [ 0.90406534  0.58269641  0.09500077]]\n"
     ]
    }
   ],
   "source": [
    "with tf.Session() as sess:\n",
    "    sess.run(tf.global_variables_initializer())\n",
    "    print(sess.run(y_)) "
   ]
  },
  {
   "cell_type": "code",
   "execution_count": null,
   "metadata": {
    "scrolled": true
   },
   "outputs": [
    {
     "name": "stdout",
     "output_type": "stream",
     "text": [
      "b'hello CloudMile'\n",
      "[[ 0.06110759  0.0848017   0.1856363 ]\n",
      " [ 0.98964614  0.6321671   0.27145612]\n",
      " [ 0.90406537  0.58269638  0.09500077]]\n",
      "[[ 0.25548515  0.16696048  0.05199932]\n",
      " [ 0.93151069  0.64173543  0.3811084 ]\n",
      " [ 0.71779537  0.50038439  0.33502901]]\n",
      "[[ 0.06110759  0.0848017   0.1856363 ]\n",
      " [ 0.98964615  0.63216708  0.27145611]\n",
      " [ 0.90406534  0.58269641  0.09500077]]\n"
     ]
    }
   ],
   "source": [
    "with tf.Session() as sess:\n",
    "    sess.run(tf.global_variables_initializer())\n",
    "    print(sess.run(s))\n",
    "    print(sess.run(n))\n",
    "    print(sess.run(y, feed_dict={x: rand_array})) \n",
    "    print(sess.run(y_))\n"
   ]
  },
  {
   "cell_type": "code",
   "execution_count": null,
   "metadata": {},
   "outputs": [],
   "source": [
    "import os\n",
    "import preparation as prep\n",
    "import model\n",
    "\n",
    "train_dir = \"../dataset/cropped\"\n",
    "img_format = 'png'\n",
    "image_size = 200\n",
    "batch_size = 64\n",
    "capacity = 1000\n",
    "\n",
    "tra_images,tra_labels,val_images,val_labels,labelNames = prep.readFilesInLabeledDirectory(train_dir, 0.2, img_format)\n",
    "number_classes = len(labelNames)\n",
    "print('Num of training data: {}\\nNum of evaluateion data: {}\\nNum of classes: {}'.format(len(tra_images), len(val_images), number_classes))\n",
    "\n",
    "input_queue = tf.train.slice_input_producer([tra_images, tra_labels])\n",
    "image = input_queue[0]\n",
    "label = input_queue[1]\n",
    "batch = tf.train.batch([image, label],\n",
    "                        batch_size= batch_size,\n",
    "                        capacity = capacity)\n",
    "\n",
    "prediction = tf.zeros(shape=batch_size, dtype=tf.int32)\n",
    "\n",
    "\n",
    "with tf.Session() as sess:\n",
    "    sess.run(tf.global_variables_initializer())\n",
    "    # Tensorflow Thread control\n",
    "    coord = tf.train.Coordinator()\n",
    "    threads = tf.train.start_queue_runners(sess= sess, coord=coord)\n",
    "    try:\n",
    "        res, pred = sess.run([batch, prediction]) \n",
    "        \n",
    "        eq = tf.equal(prediction, tf.cast(res[1], dtype=tf.int32))\n",
    "        ac = tf.reduce_mean(tf.cast(eq, tf.float32))\n",
    "        eqq, acc = sess.run([eq, ac])\n",
    "        print('Final Accuracy: ', acc)\n",
    "#         for idx, item in enumerate(res[0]):\n",
    "#             print(os.path.basename(os.path.normpath(item))[:3], ': (', res[1][idx], ' ?= ', pred[idx], ') = ', eqq[idx])\n",
    "    except tf.errors.OutOfRangeError:\n",
    "        print('Done training -- step limit reached')\n",
    "    finally:\n",
    "        coord.request_stop()\n",
    "    coord.join(threads)"
   ]
  },
  {
   "cell_type": "code",
   "execution_count": null,
   "metadata": {},
   "outputs": [],
   "source": [
    "t_batch_train = prep.get_distorted_files(tra_images,\n",
    "                                         tra_labels,\n",
    "                                         200,\n",
    "                                         200,\n",
    "                                         64,\n",
    "                                         1000,\n",
    "                                         True)\n",
    "t_op_logits, t_op_pred, classes = model.classification_inference(t_batch_train[0], labelNames, 'Simple')"
   ]
  },
  {
   "cell_type": "code",
   "execution_count": null,
   "metadata": {},
   "outputs": [],
   "source": [
    "t_op_loss = model.losses(t_op_logits, t_batch_train[1])\n",
    "t_op_acc = model.evaluation(t_op_logits, t_batch_train[1])\n",
    "with tf.Session() as sess:\n",
    "    sess.run(tf.global_variables_initializer())\n",
    "    # Tensorflow Thread control\n",
    "    coord = tf.train.Coordinator()\n",
    "    threads = tf.train.start_queue_runners(sess= sess, coord=coord)\n",
    "    try:\n",
    "        loss, acc, pred = sess.run([t_op_loss, t_op_acc, t_op_pred])\n",
    "        print(loss, acc, pred)\n",
    "        \n",
    "\n",
    "    except tf.errors.OutOfRangeError:\n",
    "        print('Done training -- step limit reached')\n",
    "    finally:\n",
    "        coord.request_stop()\n",
    "    coord.join(threads)"
   ]
  },
  {
   "cell_type": "code",
   "execution_count": null,
   "metadata": {
    "collapsed": true
   },
   "outputs": [],
   "source": []
  },
  {
   "cell_type": "code",
   "execution_count": null,
   "metadata": {},
   "outputs": [],
   "source": [
    "x = [1, 4]\n",
    "y = [2, 5]\n",
    "z = [3, 6]\n",
    "h1 = tf.stack([x, y, z])  # => [[1, 4], [2, 5], [3, 6]] (Pack along first dim.)\n",
    "h2 = tf.stack([x, y, z], axis=1)  # => [[1, 2, 3], [4, 5, 6]]\n",
    "\n",
    "with tf.Session() as sess:\n",
    "    print(sess.run(h1))\n",
    "    print(sess.run(h2))\n"
   ]
  },
  {
   "cell_type": "code",
   "execution_count": null,
   "metadata": {
    "collapsed": true
   },
   "outputs": [],
   "source": []
  },
  {
   "cell_type": "code",
   "execution_count": null,
   "metadata": {
    "collapsed": true
   },
   "outputs": [],
   "source": []
  },
  {
   "cell_type": "code",
   "execution_count": null,
   "metadata": {
    "collapsed": true
   },
   "outputs": [],
   "source": []
  }
 ],
 "metadata": {
  "kernelspec": {
   "display_name": "Python 3",
   "language": "python",
   "name": "python3"
  },
  "language_info": {
   "codemirror_mode": {
    "name": "ipython",
    "version": 3
   },
   "file_extension": ".py",
   "mimetype": "text/x-python",
   "name": "python",
   "nbconvert_exporter": "python",
   "pygments_lexer": "ipython3",
   "version": "3.6.2"
  }
 },
 "nbformat": 4,
 "nbformat_minor": 2
}
